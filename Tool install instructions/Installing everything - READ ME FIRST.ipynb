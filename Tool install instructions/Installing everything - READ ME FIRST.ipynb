{
 "cells": [
  {
   "cell_type": "markdown",
   "metadata": {},
   "source": [
    "# Tool Install Instructions\n",
    "\n",
    "These are the tools that you need to install before each lab.  If you have problems, come to the instructor hours sessions (2-4 fridays); if you still have problems, Sara can be reached on Skype at: sj.farmer (I get a lot of junk requests: when you connect, add a note that you're a student in this class).\n",
    "\n",
    "If you want to install and play with tools ahead of time, please feel free: most of them are a great deal of fun."
   ]
  },
  {
   "cell_type": "markdown",
   "metadata": {},
   "source": [
    "## Week 1: Coding Languages\n",
    "\n",
    "You need to: \n",
    "* Find your terminal window\n",
    "* Install Python, R, iPython, python libraries\n",
    "* Get Github account; install Github; connect to examples repository\n",
    "\n",
    "DO THIS: follow the instructions in file \"Week 1 install coding languages\"."
   ]
  },
  {
   "cell_type": "markdown",
   "metadata": {},
   "source": [
    "## Week 2: Scrapers\n",
    "\n",
    "You need to: \n",
    "* Install Tabula\n",
    "\n",
    "DO THIS: Go to http://tabula.technology/, click the \"download for...\" button."
   ]
  },
  {
   "cell_type": "markdown",
   "metadata": {},
   "source": [
    "## Week 3: Visualisation software\n",
    "\n",
    "You need to: \n",
    "* Get Tableau Public account.\n",
    "* Install Tableau.\n",
    "\n",
    "DO THIS: \n",
    "* Go to http://public.tableau.com/ and click “Download The App”\n",
    "* Start Tableau Public\n",
    "(Mac OSX10.6 users: we know Tableau doesn’t support you. We’re working on it.)\n",
    "\n",
    "DO THIS: \n",
    "* Go to http://d3js.org and click on “d3.zip”\n",
    "* Check that you have javascript enabled in your browser: http://www.enable-javascript.com"
   ]
  },
  {
   "cell_type": "markdown",
   "metadata": {},
   "source": [
    "## Week 4: Cleaning and Exploring Data\n",
    "\n",
    "You need to: \n",
    "* Install OpenRefine\n",
    "\n",
    "DO THIS: Go to http://openrefine.org/download.html; click on the download for your PC type (Mac, Windows, Linux)"
   ]
  },
  {
   "cell_type": "markdown",
   "metadata": {},
   "source": [
    "## Week 5: Predicting values from data\n",
    "\n",
    "No installs needed"
   ]
  },
  {
   "cell_type": "markdown",
   "metadata": {},
   "source": [
    "## Week 6: Handling text data\n",
    "\n",
    "No installs needed"
   ]
  },
  {
   "cell_type": "markdown",
   "metadata": {},
   "source": [
    "## Week 7: Handling geospatial data\n",
    "\n",
    "You need to: \n",
    "* Get Cartodb account\n",
    "* Install GDAL, QGIS\n",
    "\n",
    "DO THIS: go to https://cartodb.com/, click \"sign up\"\n",
    "\n",
    "DO THIS: IF YOU'RE ON WINDOWS: Go to http://www.qgis.org; click “download now”\n",
    "\n",
    "DO THIS: IF YOU'RE ON A MAC: \n",
    "* Step 1: Go to http://www.kyngchaos.com/software/frameworks#gdal_complete; Download the first option \"GDAL 1.11 Complete Package\" and follow the installation instructions.\n",
    "* Step 2: Go to http://www.kyngchaos.com/software/python; Choose \"matplotlib 1.3.1-2\" from the list of Python modules. Download and follow the installation instructions.\n",
    "* Step 3: Go to http://www.kyngchaos.com/software/qgis; Click on \"QGIS 2.6.1-2”; Download and install , and QGIS should be working!"
   ]
  },
  {
   "cell_type": "markdown",
   "metadata": {},
   "source": [
    "## Week 8: Learning relationships from data\n",
    "\n",
    "No installs needed"
   ]
  },
  {
   "cell_type": "markdown",
   "metadata": {},
   "source": [
    "## Week 9: Working with data science teams\n",
    "\n",
    "No installs needed"
   ]
  },
  {
   "cell_type": "markdown",
   "metadata": {},
   "source": [
    "## Week 10: Enterprise data tools\n",
    "\n",
    "No installs needed"
   ]
  },
  {
   "cell_type": "markdown",
   "metadata": {},
   "source": [
    "## Week 11: learning classes from data\n",
    "\n",
    "No installs needed"
   ]
  },
  {
   "cell_type": "markdown",
   "metadata": {},
   "source": [
    "## Week 12: Handling big data\n",
    "\n",
    "No installs needed"
   ]
  },
  {
   "cell_type": "markdown",
   "metadata": {},
   "source": [
    "## Bonus: things you might want to play with\n",
    "\n",
    "No installs needed"
   ]
  }
 ],
 "metadata": {
  "kernelspec": {
   "display_name": "Python 3",
   "language": "python",
   "name": "python3"
  },
  "language_info": {
   "codemirror_mode": {
    "name": "ipython",
    "version": 3
   },
   "file_extension": ".py",
   "mimetype": "text/x-python",
   "name": "python",
   "nbconvert_exporter": "python",
   "pygments_lexer": "ipython3",
   "version": "3.5.1"
  }
 },
 "nbformat": 4,
 "nbformat_minor": 0
}
