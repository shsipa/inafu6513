{
 "cells": [
  {
   "cell_type": "markdown",
   "metadata": {},
   "source": [
    "# Lab Reading Lists\n",
    "\n",
    "If it's \"Required\", you'll get most out of the course if you read this before the class.\n",
    "If it's \"Optional\", it'll help you understand in more depth, but you'll be fine in the class without it.\n",
    "If it's \"Deeper\", you don't need it for the class, but it will help you get deeper into the class subject if you get really interested in it."
   ]
  },
  {
   "cell_type": "markdown",
   "metadata": {},
   "source": [
    "## Getting started: your tool installs\n",
    "\n",
    "* Git instructions for Windows: http://stackoverflow.com/questions/4492979/git-is-not-recognized-as-an-internal-or-external-command\n",
    "* iPython: https://ipython.org/ipython-doc/1/interactive/notebook.html"
   ]
  },
  {
   "cell_type": "markdown",
   "metadata": {},
   "source": [
    "## Week 1: Starting a Data Science Project\n",
    "\n",
    "Deeper into the data science process:\n",
    "* http://simplystatistics.org/2014/06/13/what-i-do-when-i-get-a-new-data-set-as-told-through-tweets/\n",
    "* http://columbiadatascience.com <- Cathy O'Neill's Columbia course blog\n",
    "* https://www.thinkwithgoogle.com/articles/data-to-insights-blueprint-for-your-business.html\n",
    "\n",
    "Deeper into data science examples:\n",
    "* http://www.nytimes.com/2015/01/03/upshot/stuff-we-liked-clever-data-visualization-and-a-year-in-outrage.html\n",
    "* http://people.ischool.berkeley.edu/~nikhitakoul/capstone/index.html\n",
    "* http://www.fallen.io/ww2/\n",
    "* http://www.theguardian.com/uk-news/2016/jan/16/the-tube-at-a-standstill-why-tfl-stopped-people-walking-up-the-escalators <- didn’t need data to do this analysis; did need data to verify it\n",
    "* https://medium.com/backchannel/how-a-lone-hacker-shredded-the-myth-of-crowdsourcing-d9d0534f1731#.3pmstuazi\n",
    "* http://www.vox.com/2016/1/21/10811004/lead-poisoning-cities-us\n",
    "* Mesmerising migration: https://www.allaboutbirds.org/mesmerizing-migration-watch-118-bird-species-migrate-across-a-map-of-the-western-hemisphere/"
   ]
  },
  {
   "cell_type": "markdown",
   "metadata": {},
   "source": [
    "## Week 1: Python Basics\n",
    "\n",
    "Deeper into the basics of Python:\n",
    "* Learn python the hard way http://learnpythonthehardway.org/\n",
    "* Writing idiomatic Python www.jeffknupp.com/writing-idiomatic-python-ebook/\n",
    "* IcanHaz python courses list icanhazdatascience.blogspot.com/2013/03/learning-python.html\n",
    "* https://realpython.com/blog/python/setting-up-sublime-text-3-for-full-stack-python-development/ <- optimising your SublimeText editor to highlight Python style errors.\n",
    "\n",
    "Deeper into Python for data science:\n",
    "* “Python for data science”, Jake VanderPlas, book (aka PDS)"
   ]
  },
  {
   "cell_type": "markdown",
   "metadata": {},
   "source": [
    "## Week 2: Acquiring data\n",
    "\n",
    "Deeper into acquiring data:\n",
    "* http://fusion.net/story/214995/find-my-phone-apps-lead-to-wrong-home/?utm_source=facebook&utm_medium=social&utm_campaign=wired <- warning about trusting your tech!\n"
   ]
  },
  {
   "cell_type": "markdown",
   "metadata": {},
   "source": [
    "## Week 3: Communicating results\n",
    "\n",
    "Deeper into visualisation examples:\n",
    "* http://www.dhsprogram.com\n",
    "* http://bibrainz.com/aof/2015/07/14/top-5-websites-to-bookmark-to-be-a-better-big-data-visualization-expert/\n"
   ]
  },
  {
   "cell_type": "markdown",
   "metadata": {},
   "source": [
    "## Week 4: Cleaning and exploring data\n",
    "\n",
    "Deeper into Pandas:\n",
    "* Chris Fonnesbeck, Introduction to Pandas  http://nbviewer.jupyter.org/urls/gist.github.com/fonnesbeck/5850375/raw/c18cfcd9580d382cb6d14e4708aab33a0916ff3e/1.+Introduction+to+Pandas.ipynb\n",
    "* Julia Evans, A Practical introduction to ipython notebook and pandas https://vimeo.com/79835526\n",
    "* “Python Data Science Handbook” for (lots more) details.\n",
    "* Pandas cheat sheet: http://www.swegler.com/becky/blog/2014/08/06/useful-pandas-snippets/\n",
    "* Manish Amde, Pandas and python: top 10: http://manishamde.github.io/blog/2013/03/07/pandas-and-python-top-10/\n",
    "\n",
    "Deeper into R:\n",
    "* r-bloggers.com <- good R community\n"
   ]
  },
  {
   "cell_type": "markdown",
   "metadata": {},
   "source": [
    "## Week 5: Predicting values from data\n",
    "\n",
    "Deeper into Machine learning:\n",
    "* Brandon Rohrer, What types of questions can data science answer? http://blogs.technet.com/b/machinelearning/archive/2015/08/27/what-types-of-questions-can-data-science-answer.aspx\n"
   ]
  },
  {
   "cell_type": "markdown",
   "metadata": {},
   "source": [
    "## Week 6: Handling text data\n",
    "\n"
   ]
  },
  {
   "cell_type": "markdown",
   "metadata": {},
   "source": [
    "## Week 7: Handling geospatial data\n"
   ]
  },
  {
   "cell_type": "markdown",
   "metadata": {},
   "source": [
    "## Week 8: Learning relationships from data\n"
   ]
  },
  {
   "cell_type": "markdown",
   "metadata": {},
   "source": [
    "## Week 9: Working with data science teams\n",
    "\n"
   ]
  },
  {
   "cell_type": "markdown",
   "metadata": {},
   "source": [
    "## Week 10: Enterprise data tools\n"
   ]
  },
  {
   "cell_type": "markdown",
   "metadata": {},
   "source": [
    "## Week 11: Learning classes from data\n"
   ]
  },
  {
   "cell_type": "markdown",
   "metadata": {},
   "source": [
    "## Week 12: Handling big data"
   ]
  },
  {
   "cell_type": "markdown",
   "metadata": {},
   "source": [
    "## Bonus: Other things you might want to read\n",
    "\n",
    "See the class reading list.  Better yet, add to it!\n",
    "\n",
    "Other courses out there:\n",
    "* columbia edx https://www.edx.org/xseries/data-science-analytics-context#courses\n",
    "* https://www.udacity.com/course/intro-to-data-science--ud359"
   ]
  }
 ],
 "metadata": {
  "kernelspec": {
   "display_name": "Python 3",
   "language": "python",
   "name": "python3"
  },
  "language_info": {
   "codemirror_mode": {
    "name": "ipython",
    "version": 3
   },
   "file_extension": ".py",
   "mimetype": "text/x-python",
   "name": "python",
   "nbconvert_exporter": "python",
   "pygments_lexer": "ipython3",
   "version": "3.5.1"
  }
 },
 "nbformat": 4,
 "nbformat_minor": 0
}
