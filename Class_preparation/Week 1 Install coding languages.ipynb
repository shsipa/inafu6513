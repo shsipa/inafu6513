{
 "cells": [
  {
   "cell_type": "markdown",
   "metadata": {},
   "source": [
    "# Install Coding Languages\n",
    "\n",
    "You'll need to know where your terminal window is, and install Python, R and iPython.  You'll also need to install github to get the latest version of the lab notes and examples."
   ]
  },
  {
   "cell_type": "markdown",
   "metadata": {},
   "source": [
    "## Find your terminal window\n",
    "\n",
    "Your terminal window is here: \n",
    "* Mac: applications > utilities > terminal\n",
    "* Windows: Taskbar Start Button > Command Prompt\n",
    "* Linux: applications > accessories > terminal\n",
    "\n",
    "DO THIS: find your terminal window. Type \"ls\" (mac/linux) or \"dir\" (windows) in it. \n",
    "\n",
    "Terminal commands on a Mac or in Linux: \n",
    "* pwd: print current directory name\n",
    "* cd xxx: change to directory xxx\n",
    "* cd ~: go to your ‘home’ directory\n",
    "* ls: list files in directory\n",
    "* ls -al: list *all* files in directory (including hidden ones)\n",
    "* mkdir xxx: create a directory called xxx\n",
    "(see https://github.com/0nn0/terminal-mac-cheatsheet/wiki/Terminal-Cheatsheet-for-Mac-(-basics-) for more)\n",
    "\n",
    "Terminal commands in Windows: \n",
    "* dir: print current directory name and list files in directory\n",
    "* cd xxx: change to directory xxx\n",
    "* cd ~: go to your ‘home’ directory\n",
    "* mkdir xxx: create a directory called xxx\n",
    "(see http://www.cs.princeton.edu/courses/archive/spr05/cos126/cmd-prompt.html for more)"
   ]
  },
  {
   "cell_type": "markdown",
   "metadata": {},
   "source": [
    "## Install Python, iPython and Python libraries\n",
    "\n",
    "DO THIS: Install the Python 3.5 version of Anaconda from here: https://www.continuum.io/downloads \n",
    "* IF YOU CHOOSE TO INSTALL MINICONDA, you will need to install these libraries for the course: requests, scikit-learn, nltk, networkx, xlrd, xlwt, scrapy, bs4.  To install libraries, go to the terminal window and type \"pip install <libraryname>\" where <libraryname> is the library name, e.g. \"pip install xlrd\"\n",
    "\n",
    "DO THIS: In the terminal window, type this series of commands (some of them will take several minutes to finish. You might want to go make some tea/coffee/beverage of choice whilst they do that):\n",
    "* conda --version\n",
    "* conda update conda\n",
    "* pip install --upgrade pip\n",
    "* pip install scrapy\n"
   ]
  },
  {
   "cell_type": "markdown",
   "metadata": {},
   "source": [
    "## Install R\n",
    "\n",
    "DO THIS: In the terminal window, type this series of commands:\n",
    "* conda install -c r r-essentials\n",
    "* conda update -c r r-essentials"
   ]
  },
  {
   "cell_type": "markdown",
   "metadata": {},
   "source": [
    "## Install Git\n",
    "\n",
    "DO THIS: Get a Github account at https://github.com/\n",
    "\n",
    "NB Some Mac users will get a \"can't be opened because it is from an unidentified developer\" message when you try to run the Git install file.  This is happening because your security doesn't like apps that aren't downloaded from the Mac App Store.  The answer is to right-click on the file, or to press control when you click on it. \n",
    "\n",
    "DO THIS: IF YOU HAVE A MAC WITH OSX Snow Leopard: install git version 1.7.5 from https://code.google.com/p/git-osx-installer/downloads/list\n",
    "* If you want to know which version of mac you have, click the apple symbol in the top right hand side of your screen, then \"about this mac\". If it says \"snow leopard\" or \"version 10.6\" then you have Snow Leopard.\n",
    "\n",
    "DO THIS: IF YOU HAVE A MAC WITHOUT OSX Snow Leopard: Install github from http://git-scm.com/downloads (click on the logo for your operating system (windows, mac etc) under \"downloads\")\n",
    "\n",
    "DO THIS: WINDOWS USERS: \n",
    "* Download the git install file from http://git-scm.com/downloads (click on the logo for your operating system (windows, mac etc) under \"downloads\"). Click on this file to start the install.\n",
    "* On the second install screen, you'll see the option 'Use Git from the Windows command prompt'.  Tick this box (or you'll get \"git is not recognized as an internal or external command\" when you try to run git).\n",
    "* On the third or fourth install screen (\"Configuring the git terminal to work with git bash\"), you'll see the option \"Use Windows' default console window\". Tick this box.\n",
    "\n",
    "There's helpful material at git-scm.com/book/en/Getting-Started-Installing-Git if you get stuck."
   ]
  },
  {
   "cell_type": "markdown",
   "metadata": {},
   "source": [
    "### Test Git\n",
    "\n",
    "DO THIS: \n",
    "* open a new terminal window (e.g. close the current terminal window, and open up a new one)\n",
    "* Check you have git installed by typing \"git --version\" in the terminal window. You should see something like \"git version 2.7.0.windows.1\"\n",
    "* in the terminal window, type \"git clone https://github.com/bodacea/inafu6513.git\"\n",
    "This will grab you a copy of the code exercises and examples for this course (we'll be adding to these as the course progresses, which is why we're using git)."
   ]
  }
 ],
 "metadata": {
  "kernelspec": {
   "display_name": "Python 3",
   "language": "python",
   "name": "python3"
  },
  "language_info": {
   "codemirror_mode": {
    "name": "ipython",
    "version": 3
   },
   "file_extension": ".py",
   "mimetype": "text/x-python",
   "name": "python",
   "nbconvert_exporter": "python",
   "pygments_lexer": "ipython3",
   "version": "3.5.1"
  }
 },
 "nbformat": 4,
 "nbformat_minor": 0
}
