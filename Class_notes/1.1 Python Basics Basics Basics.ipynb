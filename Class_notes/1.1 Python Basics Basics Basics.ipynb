{
 "cells": [
  {
   "cell_type": "markdown",
   "metadata": {},
   "source": [
    "# 1.1 Python Basics: Basic Basics\n",
    "\n",
    "Code and notes for the Python Basics lecture"
   ]
  },
  {
   "cell_type": "markdown",
   "metadata": {},
   "source": [
    "## Hello World!\n",
    "\n",
    "This is the first program you write in any new coding language. To make it run, click in the cell below, and press the \"Run Cell\" button at the top of this page. Go ahead and edit the \"Hello World\" to say something more interesting, then press the \"Run Cell\" button again. "
   ]
  },
  {
   "cell_type": "code",
   "execution_count": 6,
   "metadata": {
    "collapsed": false
   },
   "outputs": [
    {
     "name": "stdout",
     "output_type": "stream",
     "text": [
      "Hello World!\n"
     ]
    }
   ],
   "source": [
    "print('Hello World!')"
   ]
  },
  {
   "cell_type": "markdown",
   "metadata": {},
   "source": [
    "## Yuck, bugs!\n",
    "\n",
    "The command below is supposed to fail.  It's here to show you that when you  cut and paste an apostrophe, it isn't always recognised by your Python code.\n",
    "\n",
    "You should see an error like \"SyntaxError: invalid character in identifier\".  This happens because the symbols ‘ and ’ aren’t the same as the ones in your code editor.  It’s annoying, but easily fixed: just delete them and type “ and ” in the right places in the editor. And if you’re in sublimetext, notice how the code changes color when you do this.\n",
    "\n",
    "You'll meet a lot of error messages when you're coding.  Take a deep breath, read the error message, and if you can't work it out, search the internet for help."
   ]
  },
  {
   "cell_type": "code",
   "execution_count": 1,
   "metadata": {
    "collapsed": false
   },
   "outputs": [
    {
     "ename": "SyntaxError",
     "evalue": "invalid character in identifier (<ipython-input-1-fd9be59f018b>, line 1)",
     "output_type": "error",
     "traceback": [
      "\u001b[0;36m  File \u001b[0;32m\"<ipython-input-1-fd9be59f018b>\"\u001b[0;36m, line \u001b[0;32m1\u001b[0m\n\u001b[0;31m    print(‘Hello World!’)\u001b[0m\n\u001b[0m               ^\u001b[0m\n\u001b[0;31mSyntaxError\u001b[0m\u001b[0;31m:\u001b[0m invalid character in identifier\n"
     ]
    }
   ],
   "source": [
    "print(‘Hello World!’)"
   ]
  },
  {
   "cell_type": "markdown",
   "metadata": {},
   "source": [
    "## Places to get help\n",
    "\n",
    "iPython is very very helpful.  Here are some ways you can work out which commands are available to you. \n",
    "\n",
    "help(functionname) - tells you all about functionname\n",
    "\n",
    "There's also help online. Stack Overflow is a coders' question-and-answer site: if you get stuck on something, chances are that someone else has already got stuck there... start by searching for the problem or error that you're seeing, and if nothing comes up, ask a question yourself. "
   ]
  },
  {
   "cell_type": "code",
   "execution_count": 9,
   "metadata": {
    "collapsed": false
   },
   "outputs": [
    {
     "name": "stdout",
     "output_type": "stream",
     "text": [
      "Help on built-in function print in module builtins:\n",
      "\n",
      "print(...)\n",
      "    print(value, ..., sep=' ', end='\\n', file=sys.stdout, flush=False)\n",
      "    \n",
      "    Prints the values to a stream, or to sys.stdout by default.\n",
      "    Optional keyword arguments:\n",
      "    file:  a file-like object (stream); defaults to the current sys.stdout.\n",
      "    sep:   string inserted between values, default a space.\n",
      "    end:   string appended after the last value, default a newline.\n",
      "    flush: whether to forcibly flush the stream.\n",
      "\n"
     ]
    }
   ],
   "source": [
    "help(print)"
   ]
  },
  {
   "cell_type": "markdown",
   "metadata": {},
   "source": [
    "## Comments\n",
    "\n",
    "When you're reading Python code, you'll see things that start with \"#\", as below. These are comments: they're there for humans to read, and aren't run by the Python code interpreter. Note that everything after the \"#\" on a line is ignored by the interpreter. \n",
    "\n",
    "You'll also see comments like this in .py files (but not in ipython): \n",
    "\n",
    "''' This is also a comment. \n",
    "Note how it runs over more than one line.  \n",
    "Coders often use these at the top of python files, as part of their\n",
    "help text. '''"
   ]
  },
  {
   "cell_type": "code",
   "execution_count": 8,
   "metadata": {
    "collapsed": false
   },
   "outputs": [
    {
     "name": "stdout",
     "output_type": "stream",
     "text": [
      "Hello World!\n"
     ]
    }
   ],
   "source": [
    "# This is a comment\n",
    "\n",
    "print('Hello World!') # This is a comment too"
   ]
  },
  {
   "cell_type": "markdown",
   "metadata": {},
   "source": [
    "### An aside: Magic Comments\n",
    "\n",
    "You'll see \"magic comments\" at the top of .py files too.  These are instructions to the interpreter.  The first one is called a \"shebang\", and tells the interpreter which type of file this is (e.g. Python); the second one tells the interpreter which character set you want it to use.\n",
    "\n",
    "Character sets are important in international development code: utf-8 is very common and useful, but you might also need to handle chinese, arabic, french etc characters in your inputs. "
   ]
  },
  {
   "cell_type": "code",
   "execution_count": 10,
   "metadata": {
    "collapsed": true
   },
   "outputs": [],
   "source": [
    "#!/usr/bin/python\n",
    "# -*- coding: utf-8 -*-"
   ]
  },
  {
   "cell_type": "markdown",
   "metadata": {},
   "source": [
    "## Variables\n",
    "\n",
    "NB: beware that quote character again!"
   ]
  },
  {
   "cell_type": "code",
   "execution_count": 12,
   "metadata": {
    "collapsed": false
   },
   "outputs": [
    {
     "name": "stdout",
     "output_type": "stream",
     "text": [
      "Hello World!\n",
      "10\n",
      "My number is now 15.523\n"
     ]
    }
   ],
   "source": [
    "my_string = \"Hello World!\"\n",
    "print(my_string)\n",
    "my_boolean = True\n",
    "my_number = 10\n",
    "print(my_number)\n",
    "my_number = 15.523\n",
    "print(\"My number is now {}\".format(my_number))"
   ]
  },
  {
   "cell_type": "markdown",
   "metadata": {},
   "source": [
    "### String formatting"
   ]
  },
  {
   "cell_type": "code",
   "execution_count": 1,
   "metadata": {
    "collapsed": false
   },
   "outputs": [
    {
     "name": "stdout",
     "output_type": "stream",
     "text": [
      "My number is 15.523. It’s not nothing\n"
     ]
    }
   ],
   "source": [
    "my_number = 15.523\n",
    "print('My number is {}. It’s not {}'.format(my_number, 'nothing'))"
   ]
  }
 ],
 "metadata": {
  "kernelspec": {
   "display_name": "Python 3",
   "language": "python",
   "name": "python3"
  },
  "language_info": {
   "codemirror_mode": {
    "name": "ipython",
    "version": 3
   },
   "file_extension": ".py",
   "mimetype": "text/x-python",
   "name": "python",
   "nbconvert_exporter": "python",
   "pygments_lexer": "ipython3",
   "version": "3.5.1"
  }
 },
 "nbformat": 4,
 "nbformat_minor": 0
}
