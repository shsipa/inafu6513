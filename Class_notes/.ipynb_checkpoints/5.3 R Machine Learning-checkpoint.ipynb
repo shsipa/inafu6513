{
 "cells": [
  {
   "cell_type": "markdown",
   "metadata": {},
   "source": [
    "# R Machine Learning"
   ]
  },
  {
   "cell_type": "markdown",
   "metadata": {},
   "source": [
    "## Correlation\n",
    "\n",
    "Data scientists often mention “p-values”.  These are part of hypothesis testing:\n",
    "* \"Null hypothesis\" = no relationship between two items\n",
    "* \"significance level\" = lowest value we can reject null hypothesis at, e.g. 1%, 5% etc. (below this = sampling error).  Most data scientists use a significance level of 5% (0.05)\n",
    "* p-value: calculated strength of relationship. If pvalue is less than the significance level, assume no relationship\n",
    "\n",
    "Is the p-value smaller than 0.05? Yes = strong evidence for correlation."
   ]
  },
  {
   "cell_type": "code",
   "execution_count": 1,
   "metadata": {
    "collapsed": false
   },
   "outputs": [
    {
     "ename": "ERROR",
     "evalue": "Error in plot(column1, column2): object 'column1' not found\n",
     "output_type": "error",
     "traceback": [
      "Error in plot(column1, column2): object 'column1' not found\nTraceback:\n",
      "1. plot(column1, column2)"
     ]
    }
   ],
   "source": [
    "plot(column1, column2)\n",
    "cor.test(column1, column2)"
   ]
  },
  {
   "cell_type": "markdown",
   "metadata": {},
   "source": [
    "## Linear Models"
   ]
  },
  {
   "cell_type": "code",
   "execution_count": null,
   "metadata": {
    "collapsed": true
   },
   "outputs": [],
   "source": [
    "plot(column1, column2)\n",
    "line <- lm(column2 ~ column1)\n",
    "abline(line)"
   ]
  },
  {
   "cell_type": "code",
   "execution_count": null,
   "metadata": {
    "collapsed": true
   },
   "outputs": [],
   "source": []
  },
  {
   "cell_type": "code",
   "execution_count": null,
   "metadata": {
    "collapsed": true
   },
   "outputs": [],
   "source": []
  },
  {
   "cell_type": "code",
   "execution_count": null,
   "metadata": {
    "collapsed": true
   },
   "outputs": [],
   "source": []
  },
  {
   "cell_type": "code",
   "execution_count": null,
   "metadata": {
    "collapsed": true
   },
   "outputs": [],
   "source": []
  }
 ],
 "metadata": {
  "kernelspec": {
   "display_name": "R",
   "language": "R",
   "name": "ir"
  },
  "language_info": {
   "codemirror_mode": "r",
   "file_extension": ".r",
   "mimetype": "text/x-r-source",
   "name": "R",
   "pygments_lexer": "r",
   "version": "3.2.1"
  }
 },
 "nbformat": 4,
 "nbformat_minor": 0
}
