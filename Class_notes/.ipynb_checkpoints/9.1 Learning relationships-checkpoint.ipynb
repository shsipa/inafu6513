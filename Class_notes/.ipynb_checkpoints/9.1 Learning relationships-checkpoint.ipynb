{
 "cells": [
  {
   "cell_type": "markdown",
   "metadata": {},
   "source": [
    "# Learning relationships"
   ]
  },
  {
   "cell_type": "markdown",
   "metadata": {},
   "source": [
    "## Network representations\n",
    "\n",
    "* Diagram\n",
    "\n",
    "* Adjacency matrix\n",
    "[[ 0, 1, 1, 1, 0, 0, 0, 0, 0, 1],\n",
    "[ 1, 0, 0, 1, 1, 0, 1, 0, 0, 1],\n",
    "[ 1, 0, 0, 1, 0, 1, 0, 0, 0, 0],\n",
    "[ 1, 1, 1, 0, 1, 1, 1, 0, 0, 0],\n",
    "[ 0, 1, 0, 1, 0, 0, 1, 0, 0, 0],\n",
    "[ 0, 0, 1, 1, 0, 0, 1, 0, 0, 0],\n",
    "[ 0, 1, 0, 1, 1, 1, 0, 0, 0, 0],\n",
    "[ 0, 0, 0, 0, 0, 0, 0, 0, 1, 0],\n",
    "[ 0, 0, 0, 0, 0, 0, 0, 1, 0, 1],\n",
    "! [ 1, 1, 0, 0, 0, 0, 0, 0, 1, 0]]\n",
    "\n",
    "* Adjacency list\n",
    "{0: [1, 2, 3, 9], 1: [0, 9, 3, 4, 6], 2: [0, 3, 5], 3: [0, 1, 2, 4, 5, 6],\n",
    "4: [1, 3, 6], 5: [2, 3, 6], 6: [1, 3, 4, 5], 7: [8], 8: [9, 7], 9: [8, 1, 0]}\n",
    "\n",
    "* Edge list\n",
    "{(0,1),(0,2),(0,3),(0,9),(1,3),(1,4),(1,6),(1,9),(2,3),(2,5),(3,4),\n",
    "(3,5),(3,6),(4,6),(5,6),(7,8),(8,9)}\n",
    "\n",
    "* Maths\n",
    "G = (V,E,e)"
   ]
  },
  {
   "cell_type": "markdown",
   "metadata": {},
   "source": [
    "## NetworkX"
   ]
  },
  {
   "cell_type": "code",
   "execution_count": 2,
   "metadata": {
    "collapsed": false
   },
   "outputs": [
    {
     "name": "stdout",
     "output_type": "stream",
     "text": [
      "\n"
     ]
    }
   ],
   "source": [
    "import networkx as nx\n",
    "\n",
    "edgelist = {(0,1),(0,2),(0,3),(0,9),(1,3),(1,4),(1,6),\n",
    "(1,9),(2,3),(2,5),(3,4),(3,5),(3,6),(4,6),(5,6),(7,8),\n",
    "(8,9)}\n",
    "\n",
    "G = nx.Graph()\n",
    "for edge in edgelist:\n",
    "    G.add_edge(edge[0], edge[1])"
   ]
  },
  {
   "cell_type": "markdown",
   "metadata": {},
   "source": [
    "## Influence"
   ]
  },
  {
   "cell_type": "code",
   "execution_count": 3,
   "metadata": {
    "collapsed": false
   },
   "outputs": [
    {
     "data": {
      "text/plain": [
       "{0: 0.34632497289589875,\n",
       " 1: 0.4291135318269177,\n",
       " 2: 0.2774361635647361,\n",
       " 3: 0.4995710120552214,\n",
       " 4: 0.3206608906122485,\n",
       " 5: 0.28339807814311707,\n",
       " 6: 0.3765525660129432,\n",
       " 7: 0.013076288249022842,\n",
       " 8: 0.053226783022261984,\n",
       " 9: 0.2035799028210581}"
      ]
     },
     "execution_count": 3,
     "metadata": {},
     "output_type": "execute_result"
    }
   ],
   "source": [
    "nx.degree_centrality(G)\n",
    "nx.betweenness_centrality(G)\n",
    "nx.closeness_centrality(G)\n",
    "nx.eigenvector_centrality(G)"
   ]
  },
  {
   "cell_type": "markdown",
   "metadata": {},
   "source": [
    "## Clusters"
   ]
  },
  {
   "cell_type": "code",
   "execution_count": 4,
   "metadata": {
    "collapsed": false
   },
   "outputs": [
    {
     "data": {
      "text/plain": [
       "<generator object k_clique_communities at 0x106fa0990>"
      ]
     },
     "execution_count": 4,
     "metadata": {},
     "output_type": "execute_result"
    }
   ],
   "source": [
    "nx.find_cliques(G)\n",
    "nx.k_clique_communities(G, 3)"
   ]
  }
 ],
 "metadata": {
  "kernelspec": {
   "display_name": "Python 3",
   "language": "python",
   "name": "python3"
  },
  "language_info": {
   "codemirror_mode": {
    "name": "ipython",
    "version": 3
   },
   "file_extension": ".py",
   "mimetype": "text/x-python",
   "name": "python",
   "nbconvert_exporter": "python",
   "pygments_lexer": "ipython3",
   "version": "3.5.1"
  }
 },
 "nbformat": 4,
 "nbformat_minor": 0
}
