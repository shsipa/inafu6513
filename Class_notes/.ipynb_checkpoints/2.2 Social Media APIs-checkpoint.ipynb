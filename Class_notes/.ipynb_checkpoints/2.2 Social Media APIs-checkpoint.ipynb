{
 "cells": [
  {
   "cell_type": "markdown",
   "metadata": {
    "collapsed": true
   },
   "source": [
    "# Social Media APIs"
   ]
  },
  {
   "cell_type": "markdown",
   "metadata": {
    "collapsed": true
   },
   "source": [
    "## Getting data from the twitter API"
   ]
  },
  {
   "cell_type": "code",
   "execution_count": null,
   "metadata": {
    "collapsed": true
   },
   "outputs": [],
   "source": [
    "import twitter\n",
    "\n",
    "auth = twitter.oauth.OAuth(OAUTH_TOKEN, OAUTH_TOKEN_SECRET, CONSUMER_KEY,  CONSUMER_SECRET);\n",
    "ta = twitter.Twitter(auth=auth)\n",
    "\n",
    "mytimeline = ta.statuses.home_timeline()"
   ]
  },
  {
   "cell_type": "code",
   "execution_count": null,
   "metadata": {
    "collapsed": true
   },
   "outputs": [],
   "source": [
    "mytimeline = ta.statuses.home_timeline();\n",
    "fematimeline = ta.statuses.user_timeline(screen_name=\"fema\");\n",
    "ta.statuses.update(status=\"I just posted from Python!\");\n",
    "ta.direct_messages.new(user=myfriendsname, text=mytextmessage);\n",
    "\n",
    "#woeid: world=1; USA=23424977; UK=23424975; \n",
    "#Kenya=23424863; Tanzania, Yemen not supported by Twitter\n",
    "place_trends = ta.trends.place(_id=woeid);"
   ]
  },
  {
   "cell_type": "markdown",
   "metadata": {
    "collapsed": true
   },
   "source": [
    "## Getting data from the facebook API"
   ]
  },
  {
   "cell_type": "code",
   "execution_count": null,
   "metadata": {
    "collapsed": true
   },
   "outputs": [],
   "source": [
    "from facepy import GraphAPI\n",
    "import json\n",
    "\n",
    "#Get access token from https://developers.facebook.com/tools/explorer/\n",
    "access = ‘your_facebook_access_token’\n",
    "graph = GraphAPI(access)\n",
    "page_id= ‘id_of_page_you’re_tracking’\n",
    "datas= graph.get(page_id+'/posts?fields=message', page=True, retry=5)"
   ]
  },
  {
   "cell_type": "code",
   "execution_count": null,
   "metadata": {
    "collapsed": true
   },
   "outputs": [],
   "source": [
    "from facepy import GraphAPI \n",
    "access = ‘your_facebook_access_token’\n",
    "graph = GraphAPI(access)\n",
    "graph.get(‘me/posts')\n",
    "graph.post(\n",
    "        \"me/feed\",\n",
    "        message=\"Posted this from Python. Data science class fascinated by ability to access social media from code...\", \n",
    "        caption=\"Posted from Python\", \n",
    "        description=\"posted from Python\")"
   ]
  },
  {
   "cell_type": "markdown",
   "metadata": {
    "collapsed": true
   },
   "source": [
    "## Getting data from the Openweather API"
   ]
  },
  {
   "cell_type": "code",
   "execution_count": 7,
   "metadata": {
    "collapsed": false
   },
   "outputs": [
    {
     "name": "stdout",
     "output_type": "stream",
     "text": [
      "HRYR latlong: -1.9686,30.1395\n",
      "KQVF latlong: -2.09,40.54\n",
      "HKML latlong: -3.2293,40.1017\n",
      "HKMO latlong: -4.0348,39.5943\n",
      "HKJK latlong: -1.3192,36.9278\n"
     ]
    }
   ],
   "source": [
    "import requests\n",
    "import json\n",
    "import csv\n",
    "\n",
    "boundingbox = '29.256, -12.039, 40.561523, -0.922812'\n",
    "apiurl = ('http://api.openweathermap.org/data/2.1/find/station?bbox=' + \n",
    "       boundingbox + ',10&cluster=no')\n",
    "response = requests.get(url=apiurl)\n",
    "jdata = json.loads(response.text)\n",
    "\n",
    "fout = open('TZAweather.csv', 'w')\n",
    "outcsv = csv.writer(fout)\n",
    "outcsv.writerow(['name', 'latitude', 'longitude'])\n",
    "\n",
    "for station in jdata['list']:\n",
    "    sname = station['name']\n",
    "    lat = station['coord']['lat']\n",
    "    lon = station['coord']['lon']\n",
    "    print(\"{} latlong: {},{}\".format(sname, str(lat), str(lon)))\n",
    "    outcsv.writerow([sname, lat, lon])\n",
    "    \n",
    "fout.close()"
   ]
  }
 ],
 "metadata": {
  "kernelspec": {
   "display_name": "Python 3",
   "language": "python",
   "name": "python3"
  },
  "language_info": {
   "codemirror_mode": {
    "name": "ipython",
    "version": 3
   },
   "file_extension": ".py",
   "mimetype": "text/x-python",
   "name": "python",
   "nbconvert_exporter": "python",
   "pygments_lexer": "ipython3",
   "version": "3.5.1"
  }
 },
 "nbformat": 4,
 "nbformat_minor": 0
}
