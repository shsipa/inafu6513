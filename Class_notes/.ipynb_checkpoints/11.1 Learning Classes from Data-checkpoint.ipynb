{
 "cells": [
  {
   "cell_type": "markdown",
   "metadata": {},
   "source": [
    "# Learning classes from data"
   ]
  },
  {
   "cell_type": "markdown",
   "metadata": {},
   "source": [
    "## K Nearest Neighbours on the Iris dataset"
   ]
  },
  {
   "cell_type": "code",
   "execution_count": null,
   "metadata": {
    "collapsed": false
   },
   "outputs": [],
   "source": [
    "import numpy as np\n",
    "from sklearn import datasets\n",
    "\n",
    "iris = datasets.load_iris()\n",
    "iris_X = iris.data\n",
    "iris_Y = iris.target\n",
    "print(\"Iris dataset: {}\".format(iris))\n",
    "print(\"Xs: {}\".format(iris_X))\n",
    "print(\"Ys: {}\".format(iris_Y))\n",
    "print(\"Unique Y values: {}\".format(np.unique(iris_Y)))"
   ]
  },
  {
   "cell_type": "markdown",
   "metadata": {},
   "source": [
    "### Split Iris data into test and training set"
   ]
  },
  {
   "cell_type": "code",
   "execution_count": null,
   "metadata": {
    "collapsed": false
   },
   "outputs": [],
   "source": [
    "ntest=10\n",
    "np.random.seed(0)\n",
    "indices = np.random.permutation(len(iris_X))\n",
    "iris_X_train = iris_X[indices[:-ntest]]\n",
    "iris_Y_train = iris_Y[indices[:-ntest]]\n",
    "iris_X_test = iris_X[indices[-ntest:]]\n",
    "iris_Y_test = iris_Y[indices[-ntest:]]\n",
    "print(\"{} training points, {} test points\".format(len(iris_X_train), \n",
    "len(iris_X_test)))"
   ]
  },
  {
   "cell_type": "markdown",
   "metadata": {},
   "source": [
    "### Run K Nearest Neighbours Algorithm"
   ]
  },
  {
   "cell_type": "code",
   "execution_count": null,
   "metadata": {
    "collapsed": false
   },
   "outputs": [],
   "source": [
    "from sklearn.neighbors import KNeighborsClassifier\n",
    "\n",
    "knn = KNeighborsClassifier()\n",
    "knn.fit(iris_X_train, iris_Y_train)\n",
    "predicted_classes = knn.predict(iris_X_test)\n",
    "\n",
    "print(\"kNN predicted classes: {}\".format(predicted_classes))\n",
    "print(\"Real classes: {}\".format(iris_Y_test))"
   ]
  },
  {
   "cell_type": "markdown",
   "metadata": {},
   "source": [
    "## K-Means on the Iris Dataset"
   ]
  },
  {
   "cell_type": "code",
   "execution_count": null,
   "metadata": {
    "collapsed": false
   },
   "outputs": [],
   "source": [
    "from sklearn import cluster, datasets\n",
    "\n",
    "iris = datasets.load_iris()\n",
    "\n",
    "k_means = cluster.KMeans(3)\n",
    "k_means.fit(iris.data)\n",
    "\n",
    "print(\"Generated labels: {}\".format(k_means.labels_))\n",
    "print(\"Real labels: {}\".format(iris.target))"
   ]
  }
 ],
 "metadata": {
  "kernelspec": {
   "display_name": "Python 3",
   "language": "python",
   "name": "python3"
  },
  "language_info": {
   "codemirror_mode": {
    "name": "ipython",
    "version": 3
   },
   "file_extension": ".py",
   "mimetype": "text/x-python",
   "name": "python",
   "nbconvert_exporter": "python",
   "pygments_lexer": "ipython3",
   "version": "3.5.1"
  }
 },
 "nbformat": 4,
 "nbformat_minor": 0
}
